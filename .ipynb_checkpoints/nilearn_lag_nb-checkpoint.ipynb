{
 "cells": [
  {
   "cell_type": "code",
   "execution_count": 5,
   "metadata": {},
   "outputs": [],
   "source": [
    "import nibabel as nb\n",
    "import numpy as np\n",
    "import pandas as pd\n",
    "import matplotlib.pylab as plt\n",
    "import seaborn as sns\n",
    "from nibabel import processing as nbproc\n",
    "import nilearn\n",
    "from scipy import ndimage, spatial, stats\n",
    "from nipype.interfaces import ants\n",
    "import pandas\n",
    "import deepdish\n",
    "import re\n",
    "import os\n",
    "from nilearn.input_data import NiftiMapsMasker, NiftiLabelsMasker, NiftiMasker"
   ]
  },
  {
   "cell_type": "code",
   "execution_count": 7,
   "metadata": {},
   "outputs": [],
   "source": [
    "def epi_calc_lag(epi_fn, gm_mask_fn, confounds_fn):\n",
    "    '''\n",
    "    Compute BOLD lag map (ala *insert paper here*).\n",
    "    \n",
    "    To do: swap out stuff for nilearn masker func\n",
    "    \n",
    "    \n",
    "    '''\n",
    "\n",
    "\n",
    "\n",
    "    return(out_name)"
   ]
  },
  {
   "cell_type": "code",
   "execution_count": null,
   "metadata": {},
   "outputs": [],
   "source": []
  },
  {
   "cell_type": "code",
   "execution_count": null,
   "metadata": {},
   "outputs": [],
   "source": []
  },
  {
   "cell_type": "code",
   "execution_count": null,
   "metadata": {},
   "outputs": [],
   "source": []
  },
  {
   "cell_type": "code",
   "execution_count": null,
   "metadata": {},
   "outputs": [],
   "source": []
  },
  {
   "cell_type": "code",
   "execution_count": null,
   "metadata": {},
   "outputs": [],
   "source": []
  },
  {
   "cell_type": "code",
   "execution_count": null,
   "metadata": {},
   "outputs": [],
   "source": [
    "mask = nb.load(gm_mask_fn)\n",
    "\n",
    "masker = NiftiMasker(mask_img = mask_obj, \n",
    "                     standardize=False, \n",
    "                     smoothing_fwhm = 0, \n",
    "                     memory = 'nilearn_cache', verbose = 10)\n",
    "\n",
    "\n",
    "\n",
    "brain_mask = nb.load(brain_mask_fn).get_data().astype(bool)\n",
    "gm_mask = nb.load(out_name_ds).get_data().astype(bool)\n",
    "\n",
    "hdr = nb.load(epi_fn)\n",
    "epi_im = hdr.get_data()\n",
    "epi_ts = epi_im[brain_mask]\n",
    "tr = hdr.header.get_zooms()[-1]\n",
    "\n",
    "#     global_ts = epi_im[gm_mask].mean(0)\n",
    "\n",
    "epi_cross_corr = np.zeros(epi_ts.shape[0])\n",
    "nsamples = 1000\n",
    "\n",
    "\n",
    "out_path, in_fn = os.path.split(epi_fn)\n",
    "out_fn = in_fn.split('desc')[0] + 'desc-lag_map.nii.gz'\n",
    "\n",
    "\n",
    "for n, vox in enumerate(epi_ts):\n",
    "    vox_zero_mean = vox - vox.mean(axis = 0)\n",
    "    global_ts_zero_mean = global_ts - global_ts.mean(axis = 0)\n",
    "\n",
    "    #Full cross correlation\n",
    "#     c = np.correlate(vox_zero_mean, global_ts_zero_mean, 'same') #Correlation of all shifts of time series.\n",
    "    c = np.correlate(vox, global_ts, 'full') #Correlation of all shifts of time series.\n",
    "    zero_lag = np.floor(c.shape[0] / 2).astype(int)\n",
    "    c_culled = c[zero_lag - 3: zero_lag + 4] #Capture +- 3 TRs (9 seconds)\n",
    "    maxC_idx = np.where(c == c_culled.max())[0].item() #Find where the maximum value of the windowed correlation exists within the larger cross correlation\n",
    "\n",
    "    #Sectioned \n",
    "    y = c[maxC_idx - 1: maxC_idx + 2] #Collect max +- 1 points for polynomial fit\n",
    "    x = np.arange(0, len(y)) #Split 2d array into 1d\n",
    "    z = np.polyfit(x, y, 2) #Second decree (parabolic) polynomial fit w/ coefs\n",
    "    p = np.poly1d(z) # Calculate discrete vals\n",
    "    xp = np.linspace(0, 2, nsamples) # Create array to house sample values\n",
    "    interp = p(xp) # Calculate nsamples of poly func\n",
    "    x_new = np.linspace(tr * -1, tr, p(xp).shape[0]) # Generate lag time series\n",
    "    maxP_idx = np.where(interp == interp.max())[0].item() #Get max lag from interpolated time series\n",
    "\n",
    "    #Putting it all back together\n",
    "    lag_point = zero_lag - maxC_idx\n",
    "    lag_point_seconds = tr * lag_point\n",
    "    lag_val = np.round(lag_point_seconds + x_new[maxP_idx], 2)\n",
    "\n",
    "    epi_cross_corr[n] = lag_val\n",
    "\n",
    "lag_map = np.zeros_like(brain_mask.astype(float))\n",
    "lag_map[brain_mask] = epi_cross_corr\n",
    "\n",
    "out_name = os.path.join(out_path, out_fn)\n",
    "\n",
    "lag_nii = nb.Nifti1Image(lag_map, header = hdr.header, affine = hdr.affine)\n",
    "lag_nii.to_filename(out_name)"
   ]
  }
 ],
 "metadata": {
  "kernelspec": {
   "display_name": "Python 3",
   "language": "python",
   "name": "python3"
  },
  "language_info": {
   "codemirror_mode": {
    "name": "ipython",
    "version": 3
   },
   "file_extension": ".py",
   "mimetype": "text/x-python",
   "name": "python",
   "nbconvert_exporter": "python",
   "pygments_lexer": "ipython3",
   "version": "3.7.1"
  }
 },
 "nbformat": 4,
 "nbformat_minor": 2
}
